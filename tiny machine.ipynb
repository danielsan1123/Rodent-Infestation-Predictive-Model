{
 "cells": [
  {
   "cell_type": "code",
   "execution_count": null,
   "id": "026d1dfb",
   "metadata": {},
   "outputs": [],
   "source": [
    "import pandas as pd\n",
    "import numpy as np \n",
    "import matplotlib #draw graph\n",
    "import matplotlib.pyplot as plt\n",
    "import matplotlib.colors as colors\n",
    "#downsample data\n",
    "from sklearn.utils import resample\n",
    "#split to X y\n",
    "from sklearn.model_selection import train_test_split \n",
    "\n",
    "#warnings\n",
    "from sklearn.exceptions import ConvergenceWarning\n",
    "\n",
    "#draws a confusion matrix\n",
    "from sklearn.metrics import confusion_matrix # from sklearn.metrics import plot_confusion_matrix (not working anymore)\n",
    "from sklearn.metrics import classification_report, confusion_matrix\n",
    "\n",
    "#seaborn\n",
    "import seaborn as sns\n",
    "from sklearn.svm import SVC \n",
    "#nav b\n",
    "from sklearn.naive_bayes import GaussianNB \n",
    "\n",
    "from sklearn.model_selection import train_test_split, GridSearchCV  # Import GridSearchCV\n",
    "\n",
    "# KNN\n",
    "from sklearn.neighbors import KNeighborsClassifier\n",
    "\n",
    "from sklearn.metrics import mean_squared_error\n",
    "from math import sqrt"
   ]
  },
  {
   "cell_type": "markdown",
   "id": "506c23e3",
   "metadata": {},
   "source": [
    "# Class balancing and data manipulating"
   ]
  },
  {
   "cell_type": "code",
   "execution_count": null,
   "id": "0b63b1ae",
   "metadata": {},
   "outputs": [],
   "source": [
    "df = pd.read_csv(r'/Users/dt/3920 project/export_merge_res_rodents.csv')\n",
    "\n",
    "#dropping unwanted attr\n",
    "# spliting data to smaller scale\n",
    "df_mh = df[df['Borough'] == 'Manhattan']\n",
    "df_brx = df[df['Borough'] == 'Bronx']\n",
    "df_q = df[df['Borough'] == 'Queens']\n",
    "df_bk = df[df['Borough'] == 'Brooklyn']\n",
    "df_si = df[df['Borough'] == 'Staten Island']\n",
    "\n",
    "# seperate data by borough for class balancing\n",
    "df_manhattan_reshape = df_mh.sample(n=2000, replace=False, random_state=42)\n",
    "df_queens_reshape = df_q.sample(n=2000, replace=False, random_state=42)\n",
    "df_bronx_reshape = df_brx.sample(n=2000, replace=False, random_state=42)\n",
    "df_brooklyn_reshape = df_bk.sample(n=2000, replace=False, random_state=42)\n",
    "df_state_island_reshape = df_si.sample(n=2000, replace=False, random_state=42)\n",
    "\n",
    "#combine data \n",
    "newdf = pd.concat([df_manhattan_reshape,df_brooklyn_reshape,df_state_island_reshape,df_bronx_reshape,df_queens_reshape], sort = False)\n",
    "newdf2 = pd.concat([df_manhattan_reshape,df_brooklyn_reshape,df_state_island_reshape,df_bronx_reshape,df_queens_reshape], sort = False)\n",
    "\n",
    "#replace attr to int\n",
    "newdf['Borough'].replace(['Manhattan','Queens','Brooklyn','Bronx','Staten Island'],[1,2,3,4,5], inplace = True)\n",
    "newdf['Grade'].replace(['A','B','C'],[1,2,3],inplace = True)\n",
    "newdf['Result'].replace([0,1,2,3,4,5,6],[0,1,1,1,1,1,1],inplace = True)\n",
    "\n",
    "newdf2['Borough'].replace(['Manhattan','Queens','Brooklyn','Bronx','Staten Island'],[1,2,3,4,5], inplace = True)\n",
    "newdf2['Grade'].replace(['A','B','C'],[1,2,3],inplace = True)\n",
    "newdf2['Result'].replace([0,1,2,3,4,5,6],[0,1,1,1,1,1,1],inplace = True)\n",
    "\n",
    "\n",
    "newdf.drop(labels = ['Latitude','Longitude','Inspection_date','Approved_date','Grade_Date','Job_progress','Grade','Census_Tract','Borough',\n",
    "       'Community_Board'],\n",
    "           axis = 1,inplace = True)\n",
    "newdf2.drop(labels = ['Latitude','Longitude','Inspection_date','Approved_date','Grade_Date'],\n",
    "           axis = 1,inplace = True)"
   ]
  },
  {
   "cell_type": "markdown",
   "id": "40c5364a",
   "metadata": {},
   "source": [
    "switch str data to int"
   ]
  },
  {
   "cell_type": "markdown",
   "id": "063dd69f",
   "metadata": {},
   "source": [
    "# Data Exploration"
   ]
  },
  {
   "cell_type": "code",
   "execution_count": null,
   "id": "de902f2c",
   "metadata": {},
   "outputs": [],
   "source": [
    "newdf['Result'].value_counts()"
   ]
  },
  {
   "cell_type": "code",
   "execution_count": null,
   "id": "78e9bcb3",
   "metadata": {},
   "outputs": [],
   "source": [
    "sns.countplot(x='Result',data=newdf2,palette='hls')\n",
    "plt.show()\n",
    "plt.savefig('Result')"
   ]
  },
  {
   "cell_type": "code",
   "execution_count": null,
   "id": "c4ffd2c9",
   "metadata": {},
   "outputs": [],
   "source": [
    "count_rat = len(newdf2[newdf['Result']==1])\n",
    "count_norat = len(newdf2[newdf['Result']==0])\n",
    "percent_of_rat = count_rat/(count_rat+count_norat)\n",
    "print('percentage of no rat is: ',percent_of_rat)\n",
    "percent_of_no_rat= count_norat/(count_rat+count_norat)\n",
    "print('percentage of no rat is: ',percent_of_no_rat)"
   ]
  },
  {
   "cell_type": "code",
   "execution_count": null,
   "id": "f5937239",
   "metadata": {},
   "outputs": [],
   "source": [
    "newdf2.groupby('Result').mean()"
   ]
  },
  {
   "cell_type": "markdown",
   "id": "5a4d937b",
   "metadata": {},
   "source": [
    "-The average grade of restaurant of rat observe is higher than no rat.\n",
    "-Job Progress around 1.15 have higher changes of rat existence\n",
    "-Inspection type above 1.19 have higher changes of rat existence"
   ]
  },
  {
   "cell_type": "code",
   "execution_count": null,
   "id": "e40d9496",
   "metadata": {},
   "outputs": [],
   "source": [
    "newdf2.groupby('Inspection_type').mean()"
   ]
  },
  {
   "cell_type": "code",
   "execution_count": null,
   "id": "e60f116b",
   "metadata": {},
   "outputs": [],
   "source": [
    "pd.crosstab(newdf2.Grade,newdf2.Result).plot(kind='bar')\n",
    "plt.title('Grade with rat result')\n",
    "plt.xlabel('Grade')\n",
    "plt.ylabel('Result counts')\n",
    "plt.savefig('Grade_fre')"
   ]
  },
  {
   "cell_type": "code",
   "execution_count": null,
   "id": "065d01fc",
   "metadata": {},
   "outputs": [],
   "source": [
    "table=pd.crosstab(newdf2.Inspection_type,newdf2.Result)\n",
    "table.div(table.sum(1).astype(float),axis=0).plot(kind='bar',stacked=\"True\")"
   ]
  },
  {
   "cell_type": "code",
   "execution_count": null,
   "id": "6b6b6e67",
   "metadata": {},
   "outputs": [],
   "source": []
  },
  {
   "cell_type": "code",
   "execution_count": null,
   "id": "70fb74a8",
   "metadata": {},
   "outputs": [],
   "source": [
    "y = newdf2.loc[:, 'Result'] \n",
    "X = newdf2"
   ]
  },
  {
   "cell_type": "code",
   "execution_count": null,
   "id": "1dcdf64d",
   "metadata": {},
   "outputs": [],
   "source": [
    "X_train, X_test, y_train, y_test = train_test_split(X, y, random_state=42)"
   ]
  },
  {
   "cell_type": "code",
   "execution_count": 46,
   "id": "c8e7c98d",
   "metadata": {},
   "outputs": [
    {
     "data": {
      "text/html": [
       "<div>\n",
       "<style scoped>\n",
       "    .dataframe tbody tr th:only-of-type {\n",
       "        vertical-align: middle;\n",
       "    }\n",
       "\n",
       "    .dataframe tbody tr th {\n",
       "        vertical-align: top;\n",
       "    }\n",
       "\n",
       "    .dataframe thead th {\n",
       "        text-align: right;\n",
       "    }\n",
       "</style>\n",
       "<table border=\"1\" class=\"dataframe\">\n",
       "  <thead>\n",
       "    <tr style=\"text-align: right;\">\n",
       "      <th></th>\n",
       "      <th>Inspection_type</th>\n",
       "      <th>Job_progress</th>\n",
       "      <th>Zip_code</th>\n",
       "      <th>Borough</th>\n",
       "      <th>Result</th>\n",
       "      <th>Council_District</th>\n",
       "      <th>Census_Tract</th>\n",
       "      <th>Grade</th>\n",
       "      <th>Community_Board</th>\n",
       "    </tr>\n",
       "  </thead>\n",
       "  <tbody>\n",
       "    <tr>\n",
       "      <th>46763</th>\n",
       "      <td>1.0</td>\n",
       "      <td>1.0</td>\n",
       "      <td>10314.0</td>\n",
       "      <td>5</td>\n",
       "      <td>0.0</td>\n",
       "      <td>51.0</td>\n",
       "      <td>27702.0</td>\n",
       "      <td>2</td>\n",
       "      <td>502.0</td>\n",
       "    </tr>\n",
       "    <tr>\n",
       "      <th>53289</th>\n",
       "      <td>2.0</td>\n",
       "      <td>2.0</td>\n",
       "      <td>10312.0</td>\n",
       "      <td>5</td>\n",
       "      <td>1.0</td>\n",
       "      <td>51.0</td>\n",
       "      <td>15601.0</td>\n",
       "      <td>3</td>\n",
       "      <td>503.0</td>\n",
       "    </tr>\n",
       "    <tr>\n",
       "      <th>35347</th>\n",
       "      <td>1.0</td>\n",
       "      <td>1.0</td>\n",
       "      <td>10468.0</td>\n",
       "      <td>4</td>\n",
       "      <td>0.0</td>\n",
       "      <td>14.0</td>\n",
       "      <td>23703.0</td>\n",
       "      <td>1</td>\n",
       "      <td>205.0</td>\n",
       "    </tr>\n",
       "    <tr>\n",
       "      <th>5091</th>\n",
       "      <td>2.0</td>\n",
       "      <td>2.0</td>\n",
       "      <td>11103.0</td>\n",
       "      <td>2</td>\n",
       "      <td>1.0</td>\n",
       "      <td>22.0</td>\n",
       "      <td>6502.0</td>\n",
       "      <td>3</td>\n",
       "      <td>401.0</td>\n",
       "    </tr>\n",
       "    <tr>\n",
       "      <th>38478</th>\n",
       "      <td>1.0</td>\n",
       "      <td>1.0</td>\n",
       "      <td>10003.0</td>\n",
       "      <td>1</td>\n",
       "      <td>0.0</td>\n",
       "      <td>2.0</td>\n",
       "      <td>3602.0</td>\n",
       "      <td>1</td>\n",
       "      <td>103.0</td>\n",
       "    </tr>\n",
       "    <tr>\n",
       "      <th>...</th>\n",
       "      <td>...</td>\n",
       "      <td>...</td>\n",
       "      <td>...</td>\n",
       "      <td>...</td>\n",
       "      <td>...</td>\n",
       "      <td>...</td>\n",
       "      <td>...</td>\n",
       "      <td>...</td>\n",
       "      <td>...</td>\n",
       "    </tr>\n",
       "    <tr>\n",
       "      <th>41775</th>\n",
       "      <td>2.0</td>\n",
       "      <td>2.0</td>\n",
       "      <td>10303.0</td>\n",
       "      <td>5</td>\n",
       "      <td>1.0</td>\n",
       "      <td>49.0</td>\n",
       "      <td>30302.0</td>\n",
       "      <td>1</td>\n",
       "      <td>501.0</td>\n",
       "    </tr>\n",
       "    <tr>\n",
       "      <th>32031</th>\n",
       "      <td>1.0</td>\n",
       "      <td>1.0</td>\n",
       "      <td>10306.0</td>\n",
       "      <td>5</td>\n",
       "      <td>0.0</td>\n",
       "      <td>50.0</td>\n",
       "      <td>13204.0</td>\n",
       "      <td>2</td>\n",
       "      <td>503.0</td>\n",
       "    </tr>\n",
       "    <tr>\n",
       "      <th>38674</th>\n",
       "      <td>1.0</td>\n",
       "      <td>1.0</td>\n",
       "      <td>10314.0</td>\n",
       "      <td>5</td>\n",
       "      <td>1.0</td>\n",
       "      <td>51.0</td>\n",
       "      <td>27702.0</td>\n",
       "      <td>1</td>\n",
       "      <td>502.0</td>\n",
       "    </tr>\n",
       "    <tr>\n",
       "      <th>37480</th>\n",
       "      <td>2.0</td>\n",
       "      <td>2.0</td>\n",
       "      <td>10002.0</td>\n",
       "      <td>1</td>\n",
       "      <td>0.0</td>\n",
       "      <td>1.0</td>\n",
       "      <td>3601.0</td>\n",
       "      <td>1</td>\n",
       "      <td>103.0</td>\n",
       "    </tr>\n",
       "    <tr>\n",
       "      <th>5515</th>\n",
       "      <td>1.0</td>\n",
       "      <td>1.0</td>\n",
       "      <td>10458.0</td>\n",
       "      <td>4</td>\n",
       "      <td>0.0</td>\n",
       "      <td>15.0</td>\n",
       "      <td>40302.0</td>\n",
       "      <td>1</td>\n",
       "      <td>207.0</td>\n",
       "    </tr>\n",
       "  </tbody>\n",
       "</table>\n",
       "<p>7500 rows × 9 columns</p>\n",
       "</div>"
      ],
      "text/plain": [
       "       Inspection_type  Job_progress  Zip_code  Borough  Result  \\\n",
       "46763              1.0           1.0   10314.0        5     0.0   \n",
       "53289              2.0           2.0   10312.0        5     1.0   \n",
       "35347              1.0           1.0   10468.0        4     0.0   \n",
       "5091               2.0           2.0   11103.0        2     1.0   \n",
       "38478              1.0           1.0   10003.0        1     0.0   \n",
       "...                ...           ...       ...      ...     ...   \n",
       "41775              2.0           2.0   10303.0        5     1.0   \n",
       "32031              1.0           1.0   10306.0        5     0.0   \n",
       "38674              1.0           1.0   10314.0        5     1.0   \n",
       "37480              2.0           2.0   10002.0        1     0.0   \n",
       "5515               1.0           1.0   10458.0        4     0.0   \n",
       "\n",
       "       Council_District  Census_Tract  Grade  Community_Board  \n",
       "46763              51.0       27702.0      2            502.0  \n",
       "53289              51.0       15601.0      3            503.0  \n",
       "35347              14.0       23703.0      1            205.0  \n",
       "5091               22.0        6502.0      3            401.0  \n",
       "38478               2.0        3602.0      1            103.0  \n",
       "...                 ...           ...    ...              ...  \n",
       "41775              49.0       30302.0      1            501.0  \n",
       "32031              50.0       13204.0      2            503.0  \n",
       "38674              51.0       27702.0      1            502.0  \n",
       "37480               1.0        3601.0      1            103.0  \n",
       "5515               15.0       40302.0      1            207.0  \n",
       "\n",
       "[7500 rows x 9 columns]"
      ]
     },
     "execution_count": 46,
     "metadata": {},
     "output_type": "execute_result"
    }
   ],
   "source": [
    "X_train"
   ]
  },
  {
   "cell_type": "code",
   "execution_count": null,
   "id": "ef9936b4",
   "metadata": {},
   "outputs": [],
   "source": [
    "# naiva bayes \n",
    "# X y with 9 features TEST SET (x not included 'result')\n",
    "\n",
    "clf = GaussianNB()\n",
    "clf.fit(X_train,y_train)\n",
    "clfs = clf.predict(X_test)\n",
    "print(confusion_matrix(y_test,clfs2))\n",
    "print(classification_report(y_test,clfs2))\n",
    "X_train.shape"
   ]
  },
  {
   "cell_type": "code",
   "execution_count": 48,
   "id": "0da695fb",
   "metadata": {},
   "outputs": [
    {
     "name": "stdout",
     "output_type": "stream",
     "text": [
      "[[ 634  479]\n",
      " [ 361 1026]]\n",
      "              precision    recall  f1-score   support\n",
      "\n",
      "         0.0       0.64      0.57      0.60      1113\n",
      "         1.0       0.68      0.74      0.71      1387\n",
      "\n",
      "    accuracy                           0.66      2500\n",
      "   macro avg       0.66      0.65      0.66      2500\n",
      "weighted avg       0.66      0.66      0.66      2500\n",
      "\n"
     ]
    },
    {
     "data": {
      "text/plain": [
       "(7500, 9)"
      ]
     },
     "execution_count": 48,
     "metadata": {},
     "output_type": "execute_result"
    }
   ],
   "source": [
    "clf2 = KNeighborsClassifier(n_neighbors=325)\n",
    "clf2.fit(X_train,y_train)\n",
    "clfs2 = clf2.predict(X_test)\n",
    "print(confusion_matrix(y_test,clfs2))\n",
    "print(classification_report(y_test,clfs2))\n",
    "X_train.shape"
   ]
  },
  {
   "cell_type": "code",
   "execution_count": 49,
   "id": "0b220b28",
   "metadata": {},
   "outputs": [
    {
     "name": "stdout",
     "output_type": "stream",
     "text": [
      "[[ 284  829]\n",
      " [ 176 1211]]\n",
      "              precision    recall  f1-score   support\n",
      "\n",
      "         0.0       0.62      0.26      0.36      1113\n",
      "         1.0       0.59      0.87      0.71      1387\n",
      "\n",
      "    accuracy                           0.60      2500\n",
      "   macro avg       0.61      0.56      0.53      2500\n",
      "weighted avg       0.60      0.60      0.55      2500\n",
      "\n"
     ]
    }
   ],
   "source": [
    "clf3 = SVC(random_state=42,probability = True)\n",
    "clf3.fit(X_train,y_train)\n",
    "clfs3=clf3.predict(X_test)\n",
    "print(confusion_matrix(y_test,clfs3))\n",
    "print(classification_report(y_test,clfs3))"
   ]
  },
  {
   "cell_type": "markdown",
   "id": "25a989e3",
   "metadata": {},
   "source": [
    "# Simple Model Emsemble"
   ]
  },
  {
   "cell_type": "code",
   "execution_count": 51,
   "id": "1f0371dd",
   "metadata": {},
   "outputs": [
    {
     "name": "stdout",
     "output_type": "stream",
     "text": [
      "[[1067   46]\n",
      " [ 340 1047]]\n",
      "              precision    recall  f1-score   support\n",
      "\n",
      "         0.0       0.76      0.96      0.85      1113\n",
      "         1.0       0.96      0.75      0.84      1387\n",
      "\n",
      "    accuracy                           0.85      2500\n",
      "   macro avg       0.86      0.86      0.85      2500\n",
      "weighted avg       0.87      0.85      0.85      2500\n",
      "\n"
     ]
    }
   ],
   "source": [
    "from itertools import product\n",
    "from sklearn.ensemble import VotingClassifier\n",
    "\n",
    "clf = GaussianNB()\n",
    "clf2 = KNeighborsClassifier(n_neighbors=325)\n",
    "clf3 = SVC(random_state=42,probability = True)\n",
    "\n",
    "clf = clf.fit(X_train, y_train)\n",
    "clf2 = clf2.fit(X_train, y_train)\n",
    "clf3 = clf3.fit(X_train, y_train)\n",
    "\n",
    "eclf = VotingClassifier(estimators=[('gnb', clf), ('knn', clf2), ('svc', clf3)],\n",
    "                         voting='soft', weights=[2, 1, 2])\n",
    "\n",
    "eclf = eclf.fit(X_train, y_train)\n",
    "\n",
    "y_pred = eclf.predict(X_test)\n",
    "\n",
    "\n",
    "print(confusion_matrix(y_test,y_pred))\n",
    "print(classification_report(y_test,y_pred))\n",
    "\n",
    "# Precision = ratio of correctly predicted positive observe\n",
    "# Recall = ratio of correctly predicted positive observation too all the actual class\n",
    "# F1 = Weighted average of precision\n",
    "# Support = number of data used (7500train, 2500 test)\n",
    "# Accuary = ration of correctly predicted "
   ]
  },
  {
   "cell_type": "code",
   "execution_count": 52,
   "id": "94fa6c43",
   "metadata": {},
   "outputs": [
    {
     "name": "stdout",
     "output_type": "stream",
     "text": [
      "Inspection type : Inital = 1, Compliance = 2, bait = 3, clean up = 4, stoppage = 5\n",
      "Enter inspection type : 1\n",
      "--------------------------------------------------\n",
      "Job progress : Initial = 1, Compliance = 2, bait = 3, clean up = 4, STOPPAGE = 5\n",
      "Enter job Progress : 2\n",
      "--------------------------------------------------\n",
      "Zip code : (nyc only)\n",
      "Enter zip code :10003\n",
      "--------------------------------------------------\n",
      "Borough : Manhattan = 1, Bronx = 2, Brooklyn = 3, Queens = 4, Staten Island = 5\n",
      "Enter borough :1\n",
      "--------------------------------------------------\n",
      "Result : Tract of rat infesation = 1, None = 0\n",
      "Enter Result code :0\n",
      "--------------------------------------------------\n",
      "Council District Code(intergers only)\n",
      "Enter council district: 3\n",
      "--------------------------------------------------\n",
      "Census Tract Code(intergers only)\n",
      "Enter census tract code: 61\n",
      "--------------------------------------------------\n",
      "Restaurant Grade : A = 1, B = 2, C = 3 \n",
      "Enter restaurant grade: 1\n",
      "--------------------------------------------------\n",
      "Community Board (intergers only)\n",
      "Enter community board: 2\n"
     ]
    },
    {
     "name": "stderr",
     "output_type": "stream",
     "text": [
      "/opt/anaconda3/lib/python3.9/site-packages/sklearn/base.py:464: UserWarning: X does not have valid feature names, but GaussianNB was fitted with feature names\n",
      "  warnings.warn(\n",
      "/opt/anaconda3/lib/python3.9/site-packages/sklearn/base.py:464: UserWarning: X does not have valid feature names, but KNeighborsClassifier was fitted with feature names\n",
      "  warnings.warn(\n",
      "/opt/anaconda3/lib/python3.9/site-packages/sklearn/base.py:464: UserWarning: X does not have valid feature names, but SVC was fitted with feature names\n",
      "  warnings.warn(\n",
      "/opt/anaconda3/lib/python3.9/site-packages/sklearn/base.py:464: UserWarning: X does not have valid feature names, but GaussianNB was fitted with feature names\n",
      "  warnings.warn(\n",
      "/opt/anaconda3/lib/python3.9/site-packages/sklearn/base.py:464: UserWarning: X does not have valid feature names, but KNeighborsClassifier was fitted with feature names\n",
      "  warnings.warn(\n",
      "/opt/anaconda3/lib/python3.9/site-packages/sklearn/base.py:464: UserWarning: X does not have valid feature names, but SVC was fitted with feature names\n",
      "  warnings.warn(\n"
     ]
    },
    {
     "name": "stdout",
     "output_type": "stream",
     "text": [
      "--------------------------------------------------\n",
      "Single Data Point: [1, 2, 10003, 1, 0, 3, 61, 1, 2]\n",
      "Prediction: [0.]\n",
      "Probabilities: [[0.75841628 0.24158372]]\n",
      "enter STOP end program or anything to continue.stop\n"
     ]
    }
   ],
   "source": [
    "x = 'yes'\n",
    "while x != 'stop':\n",
    "    print('Inspection type : Inital = 1, Compliance = 2, bait = 3, clean up = 4, stoppage = 5')\n",
    "    inspec = int(input('Enter inspection type : ')) \n",
    "    print('-' * 50)\n",
    "    \n",
    "    print('Job progress : Initial = 1, Compliance = 2, bait = 3, clean up = 4, STOPPAGE = 5')\n",
    "    job_p = int(input('Enter job Progress : '))\n",
    "    print('-' * 50)\n",
    "    \n",
    "    print('''Zip code : (nyc only)''')\n",
    "    zip_c = int(input('Enter zip code :'))\n",
    "    print('-' * 50)\n",
    "    \n",
    "    print('Borough : Manhattan = 1, Bronx = 2, Brooklyn = 3, Queens = 4, Staten Island = 5')\n",
    "    bour = int(input('Enter borough :'))\n",
    "    print('-' * 50)\n",
    "    \n",
    "    print('Result : Tract of rat infesation = 1, None = 0' )\n",
    "    res = int(input('Enter Result code :'))\n",
    "    print('-' * 50)\n",
    "    \n",
    "    print('Council District Code(intergers only)')\n",
    "    cd = int(input('Enter council district: '))\n",
    "    print('-' * 50)\n",
    "    \n",
    "    print('Census Tract Code(intergers only)')\n",
    "    ct = int(input('Enter census tract code: '))\n",
    "    print('-' * 50)\n",
    "    \n",
    "    print('Restaurant Grade : A = 1, B = 2, C = 3 ')\n",
    "    r_grade = int(input('Enter restaurant grade: '))\n",
    "    print('-' * 50)\n",
    "    \n",
    "    print('Community Board (intergers only)')\n",
    "    cb = int(input('Enter community board: '))\n",
    "    print('-' * 50)\n",
    "    \n",
    "    \n",
    "    single_data_point2 = [inspec,job_p,zip_c,bour,res,cd,ct,r_grade,cb]\n",
    "    \n",
    "\n",
    "    # Reshape the single data point to a 2D array\n",
    "    reshaped_data_point2 = [single_data_point2]\n",
    "\n",
    "    # Predictions and probabilities for the single data point\n",
    "    prediction = eclf.predict(reshaped_data_point2)\n",
    "    probability = eclf.predict_proba(reshaped_data_point2)\n",
    "\n",
    "    print(\"Single Data Point:\",single_data_point2)\n",
    "    print(\"Prediction:\", prediction)\n",
    "    print(\"Probabilities:\", probability)\n",
    "\n",
    "    \n",
    "    x = input('enter STOP end program or anything to continue.')\n"
   ]
  }
 ],
 "metadata": {
  "kernelspec": {
   "display_name": "Python 3 (ipykernel)",
   "language": "python",
   "name": "python3"
  },
  "language_info": {
   "codemirror_mode": {
    "name": "ipython",
    "version": 3
   },
   "file_extension": ".py",
   "mimetype": "text/x-python",
   "name": "python",
   "nbconvert_exporter": "python",
   "pygments_lexer": "ipython3",
   "version": "3.9.13"
  }
 },
 "nbformat": 4,
 "nbformat_minor": 5
}
